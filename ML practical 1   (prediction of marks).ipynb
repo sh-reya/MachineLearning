{
 "cells": [
  {
   "cell_type": "code",
   "execution_count": 8,
   "metadata": {},
   "outputs": [
    {
     "data": {
      "text/plain": [
       "array([51.45994065])"
      ]
     },
     "execution_count": 8,
     "metadata": {},
     "output_type": "execute_result"
    }
   ],
   "source": [
    "#Predicting marks of a person from number of hours of study. First work on Machine Learning.\n",
    "#First practical on DATA ANALYTICS\n",
    "marks=[60,20,70,80,60,60,60,60,60,35,46,7,89,35,78,25,67,89,45]\n",
    "hours=[6,2,7,8,2,2,6,8,4,3,3,3,3,3,3,3,3,3,3]\n",
    "import numpy\n",
    "marks=numpy.array(marks)\n",
    "hours=numpy.array(hours)\n",
    "hours=hours.reshape(-1,1) #converting 1D data to 2D data\n",
    "from sklearn.linear_model import LinearRegression\n",
    "mind=LinearRegression() # mind is created but is empty. We need to FIT previous data in the \"mind\"\n",
    "mind.fit(hours,marks)   # mind.fit(helper,final_purpose) ->  mind.fit(predictor,purpose) #TRAINING THE MODEL\n",
    "#prediction 1\n",
    "jack_hours=[[3]]\n",
    "jack_marks=mind.predict(jack_hours)\n",
    "\n",
    "jack_marks\n",
    "#mind.coef_"
   ]
  },
  {
   "cell_type": "code",
   "execution_count": null,
   "metadata": {},
   "outputs": [],
   "source": []
  },
  {
   "cell_type": "code",
   "execution_count": null,
   "metadata": {},
   "outputs": [],
   "source": []
  }
 ],
 "metadata": {
  "kernelspec": {
   "display_name": "Python 3",
   "language": "python",
   "name": "python3"
  },
  "language_info": {
   "codemirror_mode": {
    "name": "ipython",
    "version": 3
   },
   "file_extension": ".py",
   "mimetype": "text/x-python",
   "name": "python",
   "nbconvert_exporter": "python",
   "pygments_lexer": "ipython3",
   "version": "3.8.3"
  }
 },
 "nbformat": 4,
 "nbformat_minor": 4
}
